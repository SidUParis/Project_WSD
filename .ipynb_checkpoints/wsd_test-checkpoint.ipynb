{
 "cells": [
  {
   "cell_type": "code",
   "id": "initial_id",
   "metadata": {
    "collapsed": true,
    "ExecuteTime": {
     "end_time": "2024-04-22T11:02:40.132806Z",
     "start_time": "2024-04-22T11:02:40.105605Z"
    }
   },
   "source": [
    "import os \n",
    "import pandas \n",
    "import nltk\n",
    "import XML2Dict\n",
    "\n"
   ],
   "outputs": [
    {
     "ename": "ModuleNotFoundError",
     "evalue": "No module named 'XML2Dict'",
     "output_type": "error",
     "traceback": [
      "\u001B[0;31m---------------------------------------------------------------------------\u001B[0m",
      "\u001B[0;31mModuleNotFoundError\u001B[0m                       Traceback (most recent call last)",
      "Cell \u001B[0;32mIn[2], line 4\u001B[0m\n\u001B[1;32m      2\u001B[0m \u001B[38;5;28;01mimport\u001B[39;00m \u001B[38;5;21;01mpandas\u001B[39;00m \n\u001B[1;32m      3\u001B[0m \u001B[38;5;28;01mimport\u001B[39;00m \u001B[38;5;21;01mnltk\u001B[39;00m\n\u001B[0;32m----> 4\u001B[0m \u001B[38;5;28;01mimport\u001B[39;00m \u001B[38;5;21;01mXML2Dict\u001B[39;00m\n",
      "\u001B[0;31mModuleNotFoundError\u001B[0m: No module named 'XML2Dict'"
     ]
    }
   ],
   "execution_count": 2
  },
  {
   "metadata": {
    "ExecuteTime": {
     "end_time": "2024-04-22T10:56:00.041287Z",
     "start_time": "2024-04-22T10:56:00.032906Z"
    }
   },
   "cell_type": "code",
   "source": [
    "file_path = os.getcwd()\n",
    "\n",
    "print(file_path)"
   ],
   "id": "5c187692f1f7b14f",
   "outputs": [
    {
     "name": "stdout",
     "output_type": "stream",
     "text": [
      "/Users/sidneysun/Desktop/S2/Cs考试/Code/TP-WSD\n"
     ]
    }
   ],
   "execution_count": 2
  },
  {
   "metadata": {
    "ExecuteTime": {
     "end_time": "2024-04-22T10:56:24.366286Z",
     "start_time": "2024-04-22T10:56:24.361127Z"
    }
   },
   "cell_type": "code",
   "source": "print(os.listdir(\"./TWA-sensetagged\"))",
   "id": "132c0da365a65cff",
   "outputs": [
    {
     "name": "stdout",
     "output_type": "stream",
     "text": [
      "['plant.test', 'palm.test', 'all.test', 'README', 'crane.test', 'bass.test', 'motion.test', 'tank.test']\n"
     ]
    }
   ],
   "execution_count": 3
  },
  {
   "metadata": {
    "ExecuteTime": {
     "end_time": "2024-04-22T10:58:09.673975Z",
     "start_time": "2024-04-22T10:58:09.666393Z"
    }
   },
   "cell_type": "code",
   "source": [
    "## we take plant.test as an example\n",
    "with open(\"./TWA-sensetagged/plant.test\",encoding=\"utf-8\") as file:\n",
    "    data = file.read()\n",
    "    data = data.split(\"</instance>\")\n",
    "    print(data[:5])"
   ],
   "id": "6df3baea32c8b63f",
   "outputs": [
    {
     "name": "stdout",
     "output_type": "stream",
     "text": [
      "['<instance id=\"plant.1000000\" docsrc = \"BNC/A07\">\\n<answer instance=\"plant.1000000\" senseid=\"plant%factory\"/>\\n<context>\\nUntil the mid- and late 1970s, there were simply no rules whereby groupings of parents could obtain a state-financed, multi-denominational school, as the only channels of communication in these matters were those between the Department of Education and the relevant diocesan department or other church board. For example, a new housing estate would be built, the diocese would be informed of the development at the planning stage, and the diocesan office would put in for a school, or an extension for an existing school. The arrangement had been unchanged since the early years of the state and had become entirely natural. Similarly for the protestant community: the school  <head>plant</head>  is owned by the church, or appropriate church body. \\n</context>\\n', '\\n\\n<instance id=\"plant.1000001\" docsrc = \"BNC/A0C\">\\n<answer instance=\"plant.1000001\" senseid=\"plant%factory\"/>\\n<context>\\nBodfari Foods is a processor and supplier of liquid milk. Last year the company saw pre-tax profits of 1.9m. JUS-ROL INVESTS POTATO product manufacturer Jus-Rol has invested 1.5m in its potato manufacturing  <head>plant</head>  at Amble, Northumberland. By the end of this month manufacturing capacity is expected to increase three-fold as a result, according to sales and marketing director Joe Weston. IDEAL CHANGE CATERING butcher Ideal Meat Supplies has moved from its Smithfield Market site to premises in North London. The company has also achieved a grade A accreditation from the plant evaluation committee of the National Association of Catering Butchers.  \\n</context>\\n', '\\n\\n<instance id=\"plant.1000002\" docsrc = \"BNC/A0G\">\\n<answer instance=\"plant.1000002\" senseid=\"plant%living\"/>\\n<context>\\nSeptember 1991 1.30 You can win a great new patio Pippa Wood How to cope with a slope Bulbs  <head>plant</head>  now for spring blooms \\n</context>\\n', '\\n\\n<instance id=\"plant.1000003\" docsrc = \"BNC/A0P\">\\n<answer instance=\"plant.1000003\" senseid=\"plant%living\"/>\\n<context>\\nsit like tumors or petrified blossoms between the wire branches and you, an innocent scientist, question me on these brown sparrows: whether we should  <head>plant</head>  our yards with breadcrumbs \\n</context>\\n', '\\n\\n<instance id=\"plant.1000004\" docsrc = \"BNC/A0U\">\\n<answer instance=\"plant.1000004\" senseid=\"plant%living\"/>\\n<context>\\nThis plywood structure has grown bigger and bigger, and he has even carved gothic spires on its top. The neighbours complained and when he asked if I minded, I said I loved the kennel and hated the dog. He hasn\\'t talked to me since, but Violet tells me she has explained to him that some people are funny about dogs. She has also warned me that the little porcelain giggling buddha I\\'ve put in the tomato  <head>plant</head>  pot outside my front door will probably be nicked by the Arab boy who delivers the newspapers. \\n</context>\\n']\n"
     ]
    }
   ],
   "execution_count": 5
  },
  {
   "metadata": {
    "ExecuteTime": {
     "end_time": "2024-04-22T11:01:28.336273Z",
     "start_time": "2024-04-22T11:01:28.304231Z"
    }
   },
   "cell_type": "code",
   "source": [
    "with open(\"./TWA-sensetagged/plant.test\",encoding=\"utf-8\") as f:\n",
    "    instances = []\n",
    "    trees = xml.etree.Elementree.parse(f)\n",
    "    print(trees)"
   ],
   "id": "52e1ff23032a4045",
   "outputs": [
    {
     "ename": "AttributeError",
     "evalue": "module 'xml.etree' has no attribute 'Elementree'",
     "output_type": "error",
     "traceback": [
      "\u001B[0;31m---------------------------------------------------------------------------\u001B[0m",
      "\u001B[0;31mAttributeError\u001B[0m                            Traceback (most recent call last)",
      "Cell \u001B[0;32mIn[8], line 3\u001B[0m\n\u001B[1;32m      1\u001B[0m \u001B[38;5;28;01mwith\u001B[39;00m \u001B[38;5;28mopen\u001B[39m(\u001B[38;5;124m\"\u001B[39m\u001B[38;5;124m./TWA-sensetagged/plant.test\u001B[39m\u001B[38;5;124m\"\u001B[39m,encoding\u001B[38;5;241m=\u001B[39m\u001B[38;5;124m\"\u001B[39m\u001B[38;5;124mutf-8\u001B[39m\u001B[38;5;124m\"\u001B[39m) \u001B[38;5;28;01mas\u001B[39;00m f:\n\u001B[1;32m      2\u001B[0m     instances \u001B[38;5;241m=\u001B[39m []\n\u001B[0;32m----> 3\u001B[0m     trees \u001B[38;5;241m=\u001B[39m xml\u001B[38;5;241m.\u001B[39metree\u001B[38;5;241m.\u001B[39mElementree\u001B[38;5;241m.\u001B[39mparse(f)\n\u001B[1;32m      4\u001B[0m     \u001B[38;5;28mprint\u001B[39m(trees)\n",
      "\u001B[0;31mAttributeError\u001B[0m: module 'xml.etree' has no attribute 'Elementree'"
     ]
    }
   ],
   "execution_count": 8
  }
 ],
 "metadata": {
  "kernelspec": {
   "display_name": "Python 3",
   "language": "python",
   "name": "python3"
  },
  "language_info": {
   "codemirror_mode": {
    "name": "ipython",
    "version": 2
   },
   "file_extension": ".py",
   "mimetype": "text/x-python",
   "name": "python",
   "nbconvert_exporter": "python",
   "pygments_lexer": "ipython2",
   "version": "2.7.6"
  }
 },
 "nbformat": 4,
 "nbformat_minor": 5
}
